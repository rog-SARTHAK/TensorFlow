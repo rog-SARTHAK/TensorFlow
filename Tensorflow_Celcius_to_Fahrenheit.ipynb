{
  "nbformat": 4,
  "nbformat_minor": 0,
  "metadata": {
    "colab": {
      "provenance": [],
      "collapsed_sections": [],
      "authorship_tag": "ABX9TyMxvNI6zlZfDgtvKP+Ep/t8",
      "include_colab_link": true
    },
    "kernelspec": {
      "name": "python3",
      "display_name": "Python 3"
    },
    "language_info": {
      "name": "python"
    }
  },
  "cells": [
    {
      "cell_type": "markdown",
      "metadata": {
        "id": "view-in-github",
        "colab_type": "text"
      },
      "source": [
        "<a href=\"https://colab.research.google.com/github/rog-SARTHAK/TensorFlow/blob/main/Tensorflow_Celcius_to_Fahrenheit.ipynb\" target=\"_parent\"><img src=\"https://colab.research.google.com/assets/colab-badge.svg\" alt=\"Open In Colab\"/></a>"
      ]
    },
    {
      "cell_type": "code",
      "execution_count": 1,
      "metadata": {
        "id": "RbLGsmRejraB"
      },
      "outputs": [],
      "source": [
        "import tensorflow as tf\n",
        "import numpy as np"
      ]
    },
    {
      "cell_type": "code",
      "source": [
        "cels = np.array([-40, -10, 0, 8, 15, 22, 38], dtype = float)\n",
        "fah = np.array([-40, 14, 32, 46, 59, 72, 100], dtype = float)\n",
        "\n",
        "for index, c in enumerate(cels):\n",
        "  print(\"{} degree Celcius equals {} degree Fahrenheit\".format(c, fah[index]))"
      ],
      "metadata": {
        "colab": {
          "base_uri": "https://localhost:8080/"
        },
        "id": "_cbcDxQUkv5G",
        "outputId": "44e0613b-89d9-40cc-938f-0cf663aa4cfd"
      },
      "execution_count": 2,
      "outputs": [
        {
          "output_type": "stream",
          "name": "stdout",
          "text": [
            "-40.0 degree Celcius equals -40.0 degree Fahrenheit\n",
            "-10.0 degree Celcius equals 14.0 degree Fahrenheit\n",
            "0.0 degree Celcius equals 32.0 degree Fahrenheit\n",
            "8.0 degree Celcius equals 46.0 degree Fahrenheit\n",
            "15.0 degree Celcius equals 59.0 degree Fahrenheit\n",
            "22.0 degree Celcius equals 72.0 degree Fahrenheit\n",
            "38.0 degree Celcius equals 100.0 degree Fahrenheit\n"
          ]
        }
      ]
    },
    {
      "cell_type": "markdown",
      "source": [
        "Here the feature or input is degree celsius.\n",
        "And the labels or model output prediction is degree fahrenheit."
      ],
      "metadata": {
        "id": "Fl4OSHOdoTU6"
      }
    },
    {
      "cell_type": "markdown",
      "source": [
        "Creating the model\n",
        "\n",
        "We will only use a single layer with a single neuron"
      ],
      "metadata": {
        "id": "gLdtnG_LpI-R"
      }
    },
    {
      "cell_type": "markdown",
      "source": [
        "Building a layer"
      ],
      "metadata": {
        "id": "IWOS_QzdrBJ1"
      }
    },
    {
      "cell_type": "code",
      "source": [
        "#l0 = tf.keras.layers.Dense(units=1, input_shape=[1])"
      ],
      "metadata": {
        "id": "3tzHJMlZrDDQ"
      },
      "execution_count": 4,
      "outputs": []
    },
    {
      "cell_type": "markdown",
      "source": [
        "input_shape=[1] specifies that the input to this layer is a single value. The shape is 1D array with one member."
      ],
      "metadata": {
        "id": "1-CPnW2NrZ4D"
      }
    },
    {
      "cell_type": "markdown",
      "source": [
        "units=1 specifies the number of neurons in the layer. The number of neurons defines how many internal variables the layer has to try to learn how to solve the problem. Since this is the final layer, it is also the size of the model's output — a single float value representing degrees Fahrenheit."
      ],
      "metadata": {
        "id": "rTJnlKySsE2r"
      }
    },
    {
      "cell_type": "markdown",
      "source": [
        "**Assemble layers into the model**: Once the layers are defined, they need to be assembled into a model. The sequential model definition takes a list of layers as an argument, specifying the calculation order from the input to the output. This model has just a single layer IO."
      ],
      "metadata": {
        "id": "Myj96ICBsWof"
      }
    },
    {
      "cell_type": "code",
      "source": [
        "#model = tf.keras.Sequential([l0])"
      ],
      "metadata": {
        "id": "oACDomZuvuWH"
      },
      "execution_count": 6,
      "outputs": []
    },
    {
      "cell_type": "markdown",
      "source": [
        "OR"
      ],
      "metadata": {
        "id": "xAVWMM1hwmMX"
      }
    },
    {
      "cell_type": "code",
      "source": [
        "model = tf.keras.Sequential([\n",
        "  tf.keras.layers.Dense(units=1, input_shape=[1])\n",
        "])"
      ],
      "metadata": {
        "id": "CdraUt41woIU"
      },
      "execution_count": 3,
      "outputs": []
    },
    {
      "cell_type": "markdown",
      "source": [
        "Tensorflow uses Loss Function and Optimizer Function during training to find best model"
      ],
      "metadata": {
        "id": "ONgHTN7LIoMj"
      }
    },
    {
      "cell_type": "markdown",
      "source": [
        "Before training, the model has to be compiled. When compiled for training, the model is given:\n",
        "\n",
        "Loss function — A way of measuring how far off predictions are from the desired outcome. (The measured difference is called the \"loss\".) Here we'll use mean square error as LF.\n",
        "\n",
        "Optimizer function — A way of adjusting internal values in order to reduce the loss. Here we'll use Adam optimizer."
      ],
      "metadata": {
        "id": "w259KBPJJ0cE"
      }
    },
    {
      "cell_type": "code",
      "source": [
        "model.compile(loss='mean_squared_error',\n",
        "              optimizer=tf.keras.optimizers.Adam(0.1))"
      ],
      "metadata": {
        "id": "3xDQFJhVdxp6"
      },
      "execution_count": 4,
      "outputs": []
    },
    {
      "cell_type": "markdown",
      "metadata": {
        "id": "c-Jk4dG91dvD"
      },
      "source": [
        "## Train the model\n",
        "\n",
        "Train the model by calling the `fit` method.\n",
        "\n",
        "During training, the model takes in Celsius values, performs a calculation using the current internal variables (called \"weights\") and outputs values which are meant to be the Fahrenheit equivalent. Since the weights are initially set randomly, the output will not be close to the correct value. The difference between the actual output and the desired output is calculated using the loss function, and the optimizer function directs how the weights should be adjusted.\n",
        "\n",
        "This cycle of calculate, compare, adjust is controlled by the `fit` method. The first argument is the inputs, the second argument is the desired outputs. The `epochs` argument specifies how many times this cycle should be run, and the `verbose` argument controls how much output the method produces."
      ]
    },
    {
      "cell_type": "code",
      "source": [
        "history = model.fit(cels, fah, epochs=500, verbose=False)\n",
        "print(\"Model is trained\")  #Training is done with 7 pair of features,layers * 500 epoch ie,\n",
        "#3500 examples"
      ],
      "metadata": {
        "colab": {
          "base_uri": "https://localhost:8080/"
        },
        "id": "cSPpNB3mzK5_",
        "outputId": "cd99a7a5-f962-4681-b553-a499c2f6f906"
      },
      "execution_count": 5,
      "outputs": [
        {
          "output_type": "stream",
          "name": "stdout",
          "text": [
            "Model is trained\n"
          ]
        }
      ]
    },
    {
      "cell_type": "markdown",
      "source": [
        "Display training statistics:\n",
        "The fit method returns a history object. We can use this object to plot how the loss of our model goes down after each training epoch. A high loss means that the Fahrenheit degrees the model predicts is far from the corresponding value in fah.\n",
        "\n",
        "We'll use Matplotlib to visualize this (you could use another tool). As you can see, our model improves very quickly at first, and then has a steady, slow improvement until it is very near \"perfect\" towards the end."
      ],
      "metadata": {
        "id": "ikGWLCAb9U1t"
      }
    },
    {
      "cell_type": "code",
      "source": [
        "import matplotlib.pyplot as plt\n",
        "plt.xlabel('Epoch Number')\n",
        "plt.ylabel(\"Loss Magnitude\")\n",
        "plt.plot(history.history['loss'])"
      ],
      "metadata": {
        "colab": {
          "base_uri": "https://localhost:8080/",
          "height": 296
        },
        "id": "-lexJQXO9Xwy",
        "outputId": "8c6d33ce-9ace-4b9c-92dd-42a50446ee83"
      },
      "execution_count": 6,
      "outputs": [
        {
          "output_type": "execute_result",
          "data": {
            "text/plain": [
              "[<matplotlib.lines.Line2D at 0x7fa8a69d95d0>]"
            ]
          },
          "metadata": {},
          "execution_count": 6
        },
        {
          "output_type": "display_data",
          "data": {
            "text/plain": [
              "<Figure size 432x288 with 1 Axes>"
            ],
            "image/png": "[encoded data removed]"
          },
          "metadata": {
            "needs_background": "light"
          }
        }
      ]
    },
    {
      "cell_type": "markdown",
      "source": [
        "Now we can use the model to predict values"
      ],
      "metadata": {
        "id": "LDk8WIzJ-M95"
      }
    },
    {
      "cell_type": "code",
      "source": [
        "print(model.predict([100.0]))"
      ],
      "metadata": {
        "colab": {
          "base_uri": "https://localhost:8080/"
        },
        "id": "mfjSHMqS_dwv",
        "outputId": "db7dbb3d-e47b-4312-b057-a33a72fd6fcb"
      },
      "execution_count": 7,
      "outputs": [
        {
          "output_type": "stream",
          "name": "stdout",
          "text": [
            "1/1 [==============================] - 0s 62ms/step\n",
            "[[211.3377]]\n"
          ]
        }
      ]
    },
    {
      "cell_type": "markdown",
      "source": [
        "Looking at Layer Weights"
      ],
      "metadata": {
        "id": "a_K2J_JAASUO"
      }
    },
    {
      "cell_type": "code",
      "source": [
        "print(\"These are the layer variables: {}\".format(model.get_weights()))"
      ],
      "metadata": {
        "colab": {
          "base_uri": "https://localhost:8080/"
        },
        "id": "Oq0vJ6nQBTFp",
        "outputId": "34f840f1-bb97-4d7b-ec86-2c244e17ecfe"
      },
      "execution_count": 9,
      "outputs": [
        {
          "output_type": "stream",
          "name": "stdout",
          "text": [
            "These are the layer variables: [array([[1.8200977]], dtype=float32), array([29.327936], dtype=float32)]\n"
          ]
        }
      ]
    },
    {
      "cell_type": "markdown",
      "source": [
        "The first variable is close to ~1.8 and the second to ~32. These values (1.8 and 32) are the actual variables in the real conversion formula.\n",
        "\n",
        "This is really close to the values in the conversion formula. We'll explain this in an upcoming video where we show how a Dense layer works, but for a single neuron with a single input and a single output, the internal math looks the same as the equation for a line,  y=mx+b , which has the same form as the conversion equation,  f=1.8c+32 .\n",
        "\n",
        "Since the form is the same, the variables should converge on the standard values of 1.8 and 32, which is exactly what happened.\n",
        "\n",
        "With additional neurons, additional inputs, and additional outputs, the formula becomes much more complex, but the idea is the same."
      ],
      "metadata": {
        "id": "Q3thcoeABpR3"
      }
    }
  ]
}